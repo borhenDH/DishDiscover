{
 "cells": [
  {
   "cell_type": "markdown",
   "metadata": {},
   "source": [
    "# Import necessary libraries"
   ]
  },
  {
   "cell_type": "code",
   "execution_count": 12,
   "metadata": {},
   "outputs": [],
   "source": [
    "from selenium import webdriver\n",
    "from selenium.webdriver.common.by import By\n",
    "from selenium.webdriver.edge.service import Service\n",
    "from selenium.webdriver.support import expected_conditions as EC\n",
    "from selenium.webdriver.support.wait import WebDriverWait\n",
    "import pandas as pd\n",
    "\n",
    "import time\n",
    "\n",
    "\n",
    "PATH = r\"C:\\Program Files (x86)\\msedgedriver\"\n",
    "service = Service(PATH)\n",
    "\n"
   ]
  },
  {
   "cell_type": "markdown",
   "metadata": {},
   "source": [
    "# Extracting links of alphabets \n",
    "The recipes are organized alphabetically"
   ]
  },
  {
   "cell_type": "code",
   "execution_count": 13,
   "metadata": {},
   "outputs": [
    {
     "name": "stdout",
     "output_type": "stream",
     "text": [
      "[<selenium.webdriver.remote.webelement.WebElement (session=\"c7e7f61bb4b042e3e0ce42a1a046b03e\", element=\"79A70CDEACB7805E20EA42088EF63575_element_11\")>, <selenium.webdriver.remote.webelement.WebElement (session=\"c7e7f61bb4b042e3e0ce42a1a046b03e\", element=\"79A70CDEACB7805E20EA42088EF63575_element_12\")>, <selenium.webdriver.remote.webelement.WebElement (session=\"c7e7f61bb4b042e3e0ce42a1a046b03e\", element=\"79A70CDEACB7805E20EA42088EF63575_element_13\")>, <selenium.webdriver.remote.webelement.WebElement (session=\"c7e7f61bb4b042e3e0ce42a1a046b03e\", element=\"79A70CDEACB7805E20EA42088EF63575_element_14\")>, <selenium.webdriver.remote.webelement.WebElement (session=\"c7e7f61bb4b042e3e0ce42a1a046b03e\", element=\"79A70CDEACB7805E20EA42088EF63575_element_15\")>, <selenium.webdriver.remote.webelement.WebElement (session=\"c7e7f61bb4b042e3e0ce42a1a046b03e\", element=\"79A70CDEACB7805E20EA42088EF63575_element_16\")>, <selenium.webdriver.remote.webelement.WebElement (session=\"c7e7f61bb4b042e3e0ce42a1a046b03e\", element=\"79A70CDEACB7805E20EA42088EF63575_element_17\")>, <selenium.webdriver.remote.webelement.WebElement (session=\"c7e7f61bb4b042e3e0ce42a1a046b03e\", element=\"79A70CDEACB7805E20EA42088EF63575_element_18\")>, <selenium.webdriver.remote.webelement.WebElement (session=\"c7e7f61bb4b042e3e0ce42a1a046b03e\", element=\"79A70CDEACB7805E20EA42088EF63575_element_19\")>, <selenium.webdriver.remote.webelement.WebElement (session=\"c7e7f61bb4b042e3e0ce42a1a046b03e\", element=\"79A70CDEACB7805E20EA42088EF63575_element_20\")>, <selenium.webdriver.remote.webelement.WebElement (session=\"c7e7f61bb4b042e3e0ce42a1a046b03e\", element=\"79A70CDEACB7805E20EA42088EF63575_element_21\")>, <selenium.webdriver.remote.webelement.WebElement (session=\"c7e7f61bb4b042e3e0ce42a1a046b03e\", element=\"79A70CDEACB7805E20EA42088EF63575_element_22\")>, <selenium.webdriver.remote.webelement.WebElement (session=\"c7e7f61bb4b042e3e0ce42a1a046b03e\", element=\"79A70CDEACB7805E20EA42088EF63575_element_23\")>, <selenium.webdriver.remote.webelement.WebElement (session=\"c7e7f61bb4b042e3e0ce42a1a046b03e\", element=\"79A70CDEACB7805E20EA42088EF63575_element_24\")>, <selenium.webdriver.remote.webelement.WebElement (session=\"c7e7f61bb4b042e3e0ce42a1a046b03e\", element=\"79A70CDEACB7805E20EA42088EF63575_element_25\")>, <selenium.webdriver.remote.webelement.WebElement (session=\"c7e7f61bb4b042e3e0ce42a1a046b03e\", element=\"79A70CDEACB7805E20EA42088EF63575_element_26\")>]\n"
     ]
    }
   ],
   "source": [
    "driver = webdriver.Edge(service=service)\n",
    "driver.get(\"https://www.allrecipes.com/ingredients-a-z-6740416\")\n",
    "time.sleep(5)\n",
    "links=[]\n",
    "try:    \n",
    "    container = WebDriverWait(driver, 7).until(EC.presence_of_element_located((By.ID,'alphabetical-list_1-0')))\n",
    "    \n",
    "    alphabets = container.find_elements(By.CLASS_NAME,'alphabetical-list__group')\n",
    "    print(alphabets)\n",
    "except:\n",
    "    print('error in getting links')\n",
    "\n",
    "for k,alphabet in enumerate(alphabets) :\n",
    "    list_of_ingredients = alphabet.find_element(By.TAG_NAME, 'ul')\n",
    "    ingredient=list_of_ingredients.find_elements(By.TAG_NAME,\"li\")\n",
    "    for i,element in enumerate(ingredient):\n",
    "        \n",
    "        link_container = element.find_element(By.TAG_NAME,\"a\")\n",
    "        link = link_container.get_attribute(\"href\")\n",
    "        links.append(link)\n",
    "df = pd.DataFrame({'Links': links})\n",
    "df.to_excel(\"links_sheet.xlsx\", index=False)"
   ]
  },
  {
   "cell_type": "markdown",
   "metadata": {},
   "source": [
    "# Extracting the link of each recipe"
   ]
  },
  {
   "cell_type": "code",
   "execution_count": 14,
   "metadata": {},
   "outputs": [],
   "source": [
    "driver = webdriver.Edge(service=service)\n",
    "recipes_links = []\n",
    "links  = pd.read_excel(\"links_sheet.xlsx\")\n",
    "links_list = links['Links'].tolist()\n",
    "for link in links_list :\n",
    "    driver.get(link)\n",
    "    time.sleep(4)\n",
    "    container = driver.find_element(By.ID,\"mntl-taxonomysc-article-list-group_1-0\")\n",
    "    cards = container.find_elements(By.CLASS_NAME,\"mntl-card-list-items\")\n",
    "    for i,card in enumerate(cards) :\n",
    "        recipe_link = card.get_attribute(\"href\")\n",
    "        recipes_links.append(recipe_link)\n",
    "df = pd.DataFrame({'recipes_Links': recipes_links})\n",
    "df.to_excel(\"recipes_links_sheet.xlsx\", index=False)"
   ]
  },
  {
   "cell_type": "markdown",
   "metadata": {},
   "source": [
    "# Extracting the ingredients of each recipe"
   ]
  },
  {
   "cell_type": "code",
   "execution_count": 17,
   "metadata": {},
   "outputs": [],
   "source": [
    "driver = webdriver.Edge(service=service)\n",
    "recipes_links = []\n",
    "recipe=[]\n",
    "ingredients=[]\n",
    "direction=[]\n",
    "links  = pd.read_excel(\"recipes_links_sheet.xlsx\")\n",
    "links_list = links['recipes_Links'].tolist()\n",
    "for i,link in enumerate(links_list) :\n",
    "    if i>10 :\n",
    "        break\n",
    "\n",
    "    driver.get(link)\n",
    "    time.sleep(4)\n",
    "    \n",
    "    recipe.append(driver.find_element(By.ID,\"article-heading_1-0\").text)\n",
    "    ingredients.append(driver.find_element(By.ID,\"mntl-structured-ingredients_1-0\").text) \n",
    "    direction.append(driver.find_element(By.ID,\"recipe__steps_1-0\").text)\n",
    "\n",
    "df = pd.DataFrame({'recipes': recipe, 'ingredients': ingredients, 'direction': direction})\n",
    "df.to_excel(\"recipes_ingredients_sheet.xlsx\", index=False)"
   ]
  },
  {
   "cell_type": "markdown",
   "metadata": {},
   "source": [
    "I limited the number of recipes extracted to 10, you can remove it for full extraction"
   ]
  }
 ],
 "metadata": {
  "kernelspec": {
   "display_name": "Python 3",
   "language": "python",
   "name": "python3"
  },
  "language_info": {
   "codemirror_mode": {
    "name": "ipython",
    "version": 3
   },
   "file_extension": ".py",
   "mimetype": "text/x-python",
   "name": "python",
   "nbconvert_exporter": "python",
   "pygments_lexer": "ipython3",
   "version": "3.11.5"
  }
 },
 "nbformat": 4,
 "nbformat_minor": 2
}
